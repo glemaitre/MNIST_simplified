{
 "cells": [
  {
   "cell_type": "markdown",
   "metadata": {},
   "source": [
    "# [Paris Saclay Center for Data Science](http://www.datascience-paris-saclay.fr)\n",
    "\n",
    "## [RAMP](https://www.ramp.studio/problems/MNIST_simplified) MNIST handwritten digit classification\n",
    "\n",
    "_Mehdi Cherti (CNRS), Balázs Kégl (CNRS)_\n",
    "    \n",
    "## Introduction\n",
    "\n",
    "\n",
    "\n",
    "## Data\n",
    "\n",
    "\n",
    "\n",
    "## The prediction task\n",
    "\n",
    "The goal of this RAMP is to classify correctly handwritten digits. For each submission, you will have to provide an image classifier (versus the original setup that required a transformer and a batch classifier). The images are usually big so loading them into the memory at once may be impossible. The image classifier therefore will access them through an `img_loader` function which can load one image at a time. \n",
    "\n",
    "## Hints\n",
    "\n",
    "Setting up an AWS instance is easy, just follow [this tutorial](https://medium.com/@mateuszsieniawski/keras-with-gpu-on-amazon-ec2-a-step-by-step-instruction-4f90364e49ac#.dariq7i2u).\n",
    "\n",
    "For learning the nuts and bolts of convolutional nets, we suggest that you follow [Andrej Karpathy’s excellent course](http://cs231n.github.io)."
   ]
  },
  {
   "cell_type": "code",
   "execution_count": 1,
   "metadata": {
    "collapsed": true
   },
   "outputs": [],
   "source": [
    "import os\n",
    "import numpy as np\n",
    "import pandas as pd\n",
    "from skimage.io import imread\n",
    "from sklearn.model_selection import StratifiedShuffleSplit\n",
    "from sklearn.metrics import accuracy_score\n",
    "import matplotlib.pyplot as plt\n",
    "from mpl_toolkits.axes_grid1 import AxesGrid\n",
    "from matplotlib import cm\n",
    "\n",
    "%matplotlib inline\n",
    "\n",
    "pd.set_option('display.max_rows', 500)"
   ]
  },
  {
   "cell_type": "markdown",
   "metadata": {},
   "source": [
    "# The data"
   ]
  },
  {
   "cell_type": "markdown",
   "metadata": {},
   "source": [
    "If the images are not yet in `data/imgs`, change the type of the net cell to \"Code\" and run it."
   ]
  },
  {
   "cell_type": "raw",
   "metadata": {},
   "source": [
    "!python download_data.py"
   ]
  },
  {
   "cell_type": "code",
   "execution_count": 2,
   "metadata": {
    "collapsed": true
   },
   "outputs": [],
   "source": [
    "df = pd.read_csv('data/train.csv')\n",
    "X_df = df['id']\n",
    "y_df = df['class']\n",
    "X = X_df.values\n",
    "y = y_df.values"
   ]
  },
  {
   "cell_type": "markdown",
   "metadata": {},
   "source": [
    "The class distribution is balanced."
   ]
  },
  {
   "cell_type": "code",
   "execution_count": 3,
   "metadata": {},
   "outputs": [
    {
     "data": {
      "text/html": [
       "<div>\n",
       "<style>\n",
       "    .dataframe thead tr:only-child th {\n",
       "        text-align: right;\n",
       "    }\n",
       "\n",
       "    .dataframe thead th {\n",
       "        text-align: left;\n",
       "    }\n",
       "\n",
       "    .dataframe tbody tr th {\n",
       "        vertical-align: top;\n",
       "    }\n",
       "</style>\n",
       "<table border=\"1\" class=\"dataframe\">\n",
       "  <thead>\n",
       "    <tr style=\"text-align: right;\">\n",
       "      <th></th>\n",
       "      <th>id</th>\n",
       "    </tr>\n",
       "    <tr>\n",
       "      <th>class</th>\n",
       "      <th></th>\n",
       "    </tr>\n",
       "  </thead>\n",
       "  <tbody>\n",
       "    <tr>\n",
       "      <th>0</th>\n",
       "      <td>4742</td>\n",
       "    </tr>\n",
       "    <tr>\n",
       "      <th>1</th>\n",
       "      <td>5370</td>\n",
       "    </tr>\n",
       "    <tr>\n",
       "      <th>2</th>\n",
       "      <td>4795</td>\n",
       "    </tr>\n",
       "    <tr>\n",
       "      <th>3</th>\n",
       "      <td>4914</td>\n",
       "    </tr>\n",
       "    <tr>\n",
       "      <th>4</th>\n",
       "      <td>4675</td>\n",
       "    </tr>\n",
       "    <tr>\n",
       "      <th>5</th>\n",
       "      <td>4337</td>\n",
       "    </tr>\n",
       "    <tr>\n",
       "      <th>6</th>\n",
       "      <td>4709</td>\n",
       "    </tr>\n",
       "    <tr>\n",
       "      <th>7</th>\n",
       "      <td>4998</td>\n",
       "    </tr>\n",
       "    <tr>\n",
       "      <th>8</th>\n",
       "      <td>4707</td>\n",
       "    </tr>\n",
       "    <tr>\n",
       "      <th>9</th>\n",
       "      <td>4753</td>\n",
       "    </tr>\n",
       "  </tbody>\n",
       "</table>\n",
       "</div>"
      ],
      "text/plain": [
       "         id\n",
       "class      \n",
       "0      4742\n",
       "1      5370\n",
       "2      4795\n",
       "3      4914\n",
       "4      4675\n",
       "5      4337\n",
       "6      4709\n",
       "7      4998\n",
       "8      4707\n",
       "9      4753"
      ]
     },
     "execution_count": 3,
     "metadata": {},
     "output_type": "execute_result"
    }
   ],
   "source": [
    "labels_counts_df = df.groupby('class').count()\n",
    "labels_counts_df"
   ]
  },
  {
   "cell_type": "markdown",
   "metadata": {},
   "source": [
    "It is worthwhile to look at some image panels, grouped by label. "
   ]
  },
  {
   "cell_type": "code",
   "execution_count": 4,
   "metadata": {},
   "outputs": [
    {
     "name": "stderr",
     "output_type": "stream",
     "text": [
      "/Users/kegl/anaconda/lib/python2.7/site-packages/matplotlib/figure.py:1999: UserWarning: This figure includes Axes that are not compatible with tight_layout, so results might be incorrect.\n",
      "  warnings.warn(\"This figure includes Axes that are not compatible \"\n"
     ]
    },
    {
     "data": {
      "image/png": "[encoded data removed]",
      "text/plain": [
       "<matplotlib.figure.Figure at 0x1c145e1550>"
      ]
     },
     "metadata": {},
     "output_type": "display_data"
    }
   ],
   "source": [
    "nb_rows = 4\n",
    "nb_cols = 4\n",
    "nb_elements = nb_rows * nb_cols\n",
    "label = 8\n",
    "\n",
    "df_given_label = df[df['class']==label]\n",
    "\n",
    "subsample = np.random.choice(df_given_label['id'], replace=False, size=nb_elements)\n",
    "\n",
    "fig = plt.figure(figsize=(4, 4))\n",
    "grid = AxesGrid(fig, 111, # similar to subplot(141)\n",
    "                nrows_ncols = (nb_rows, nb_cols),\n",
    "                axes_pad = 0.05,\n",
    "                label_mode = \"1\",\n",
    ")\n",
    "for i, image_id in enumerate(subsample):\n",
    "    filename = 'data/imgs/{}'.format(image_id)\n",
    "    image = imread(filename)\n",
    "    im = grid[i].imshow(image, cmap='Greys', interpolation='nearest')\n",
    "    grid[i].axis('off')\n",
    "plt.tight_layout()"
   ]
  },
  {
   "cell_type": "markdown",
   "metadata": {},
   "source": [
    "All images have size 28 $\\times$ 28."
   ]
  },
  {
   "cell_type": "code",
   "execution_count": 5,
   "metadata": {},
   "outputs": [
    {
     "data": {
      "text/plain": [
       "(28, 28)"
      ]
     },
     "execution_count": 5,
     "metadata": {},
     "output_type": "execute_result"
    }
   ],
   "source": [
    "image.shape"
   ]
  },
  {
   "cell_type": "code",
   "execution_count": 6,
   "metadata": {
    "collapsed": true
   },
   "outputs": [],
   "source": [
    "n_subsample = 1000\n",
    "shapes = np.empty((n_subsample, 2))\n",
    "for i, image_id in enumerate(X_df[:n_subsample]):\n",
    "    filename = 'data/imgs/{}'.format(image_id)\n",
    "    image = imread(filename)\n",
    "    shapes[i] = image.shape"
   ]
  },
  {
   "cell_type": "code",
   "execution_count": 7,
   "metadata": {},
   "outputs": [
    {
     "data": {
      "text/html": [
       "<div>\n",
       "<style>\n",
       "    .dataframe thead tr:only-child th {\n",
       "        text-align: right;\n",
       "    }\n",
       "\n",
       "    .dataframe thead th {\n",
       "        text-align: left;\n",
       "    }\n",
       "\n",
       "    .dataframe tbody tr th {\n",
       "        vertical-align: top;\n",
       "    }\n",
       "</style>\n",
       "<table border=\"1\" class=\"dataframe\">\n",
       "  <thead>\n",
       "    <tr style=\"text-align: right;\">\n",
       "      <th></th>\n",
       "      <th></th>\n",
       "      <th>count</th>\n",
       "    </tr>\n",
       "    <tr>\n",
       "      <th>height</th>\n",
       "      <th>width</th>\n",
       "      <th></th>\n",
       "    </tr>\n",
       "  </thead>\n",
       "  <tbody>\n",
       "    <tr>\n",
       "      <th>28.0</th>\n",
       "      <th>28.0</th>\n",
       "      <td>1000</td>\n",
       "    </tr>\n",
       "  </tbody>\n",
       "</table>\n",
       "</div>"
      ],
      "text/plain": [
       "              count\n",
       "height width       \n",
       "28.0   28.0    1000"
      ]
     },
     "execution_count": 7,
     "metadata": {},
     "output_type": "execute_result"
    }
   ],
   "source": [
    "shapes_df = pd.DataFrame(shapes, columns=['height', 'width'])\n",
    "shapes_df['count'] = 0\n",
    "shapes_df.groupby(['height', 'width']).count().sort_values('count', ascending=False)"
   ]
  },
  {
   "cell_type": "code",
   "execution_count": 8,
   "metadata": {},
   "outputs": [
    {
     "data": {
      "text/plain": [
       "<matplotlib.axes._subplots.AxesSubplot at 0x1c165c6090>"
      ]
     },
     "execution_count": 8,
     "metadata": {},
     "output_type": "execute_result"
    },
    {
     "data": {
      "image/png": "[encoded data removed]",
      "text/plain": [
       "<matplotlib.figure.Figure at 0x1c165dc490>"
      ]
     },
     "metadata": {},
     "output_type": "display_data"
    }
   ],
   "source": [
    "shapes_df['height'].hist()"
   ]
  },
  {
   "cell_type": "markdown",
   "metadata": {},
   "source": [
    "# Image preprocessing\n",
    "\n",
    "In the first workflow element image_preprocessor.py you can resize, crop, or rotate the images. This is an important step. Neural nets need standard-size images defined by the dimension of the input layer. MNIST images are centered and resized, so these operations are unlikely to be useful but rotation may help."
   ]
  },
  {
   "cell_type": "code",
   "execution_count": 9,
   "metadata": {},
   "outputs": [
    {
     "data": {
      "image/png": "[encoded data removed]",
      "text/plain": [
       "<matplotlib.figure.Figure at 0x1c165e6050>"
      ]
     },
     "metadata": {},
     "output_type": "display_data"
    }
   ],
   "source": [
    "filename = 'data/imgs/{}'.format(X_df[161])\n",
    "image = imread(filename)\n",
    "plt.imshow(image, cmap='Greys', interpolation='nearest')\n",
    "plt.show()"
   ]
  },
  {
   "cell_type": "markdown",
   "metadata": {},
   "source": [
    "Here we resize the images to different resolutions, then blow them up so the difference can be visible."
   ]
  },
  {
   "cell_type": "code",
   "execution_count": 10,
   "metadata": {},
   "outputs": [
    {
     "name": "stderr",
     "output_type": "stream",
     "text": [
      "/Users/kegl/anaconda/lib/python2.7/site-packages/skimage/transform/_warps.py:84: UserWarning: The default mode, 'constant', will be changed to 'reflect' in skimage 0.15.\n",
      "  warn(\"The default mode, 'constant', will be changed to 'reflect' in \"\n"
     ]
    },
    {
     "data": {
      "image/png": "[encoded data removed]",
      "text/plain": [
       "<matplotlib.figure.Figure at 0x1c1673a7d0>"
      ]
     },
     "metadata": {},
     "output_type": "display_data"
    }
   ],
   "source": [
    "from skimage.transform import resize\n",
    "\n",
    "nb_rows = 1\n",
    "nb_cols = 2\n",
    "nb_elements = nb_rows * nb_cols\n",
    "\n",
    "\n",
    "fig = plt.figure(figsize=(4, 4))\n",
    "grid = AxesGrid(fig, 111, # similar to subplot(141)\n",
    "                nrows_ncols = (nb_rows, nb_cols),\n",
    "                axes_pad = 0.05,\n",
    "                label_mode = \"1\",\n",
    ")\n",
    "grid[0].imshow(\n",
    "    resize(resize(image, (16, 16)), (224, 224), order=0),\n",
    "    cmap='Greys', interpolation='nearest')\n",
    "grid[0].axis('off')\n",
    "grid[1].imshow(\n",
    "    resize(resize(image, (8, 8)), (224, 224), order=0),\n",
    "    cmap='Greys', interpolation='nearest')\n",
    "grid[1].axis('off')\n",
    "plt.tight_layout()"
   ]
  },
  {
   "cell_type": "markdown",
   "metadata": {},
   "source": [
    "Here we rotate the image. Explore options in skimage."
   ]
  },
  {
   "cell_type": "code",
   "execution_count": 11,
   "metadata": {},
   "outputs": [
    {
     "data": {
      "image/png": "[encoded data removed]",
      "text/plain": [
       "<matplotlib.figure.Figure at 0x1c16b10590>"
      ]
     },
     "metadata": {},
     "output_type": "display_data"
    }
   ],
   "source": [
    "from skimage.transform import rotate\n",
    "\n",
    "nb_rows = 1\n",
    "nb_cols = 4\n",
    "nb_elements = nb_rows * nb_cols\n",
    "\n",
    "fig = plt.figure(figsize=(10, 10))\n",
    "grid = AxesGrid(fig, 111, # similar to subplot(141)\n",
    "                nrows_ncols = (nb_rows, nb_cols),\n",
    "                axes_pad = 0.05,\n",
    "                label_mode = \"1\",\n",
    ")\n",
    "grid[0].imshow(rotate(image, 30), cmap='Greys', interpolation='nearest')\n",
    "grid[0].axis('off')\n",
    "grid[1].imshow(rotate(image, 45), cmap='Greys', interpolation='nearest')\n",
    "grid[1].axis('off')\n",
    "grid[2].imshow(rotate(image, 60), cmap='Greys', interpolation='nearest')\n",
    "grid[2].axis('off')\n",
    "grid[3].imshow(rotate(image, 75), cmap='Greys', interpolation='nearest')\n",
    "grid[3].axis('off')\n",
    "plt.tight_layout()"
   ]
  },
  {
   "cell_type": "markdown",
   "metadata": {},
   "source": [
    "All these tansformations should be implemented in the transform function found in the `image_preprocessor` workflow element that you will submit."
   ]
  },
  {
   "cell_type": "markdown",
   "metadata": {},
   "source": [
    "## The pipeline\n",
    "\n",
    "For submitting at the [RAMP site](http://ramp.studio), you will have to write a single ImageClassifier class implementing a `fit` and a `predict_proba` function.\n",
    "\n",
    "Note that the following code cells are *not* executed in the notebook. The notebook saves their contents in the file specified in the first line of the cell, so you can edit your submission before running the local test below and submitting it at the RAMP site."
   ]
  },
  {
   "cell_type": "markdown",
   "metadata": {},
   "source": [
    "### The starting kit image classifier\n",
    "\n",
    "The starting kit implements a simple keras neural net. Since MNIST is a small set of small images, we can actually load them into the memory. MNIST contains well-centered and aligned images so `_transform` only needs to scale the pixels into `[0, 1]`. "
   ]
  },
  {
   "cell_type": "code",
   "execution_count": 31,
   "metadata": {},
   "outputs": [
    {
     "name": "stdout",
     "output_type": "stream",
     "text": [
      "Overwriting submissions/starting_kit/image_classifier.py\n"
     ]
    }
   ],
   "source": [
    "%%file submissions/starting_kit/image_classifier.py\n",
    "import numpy as np\n",
    "\n",
    "from keras.models import Model\n",
    "from keras.layers import Input\n",
    "from keras.layers import Dense\n",
    "from keras.layers import Flatten\n",
    "from keras.optimizers import SGD\n",
    "\n",
    "\n",
    "class ImageClassifier(object):\n",
    "\n",
    "    def __init__(self):\n",
    "        inp = Input((28, 28, 1))\n",
    "        x = Flatten(name='flatten')(inp)\n",
    "        x = Dense(100, activation='relu', name='fc1')(x)\n",
    "        out = Dense(10, activation='softmax', name='predictions')(x)\n",
    "        self.model = Model(inp, out)\n",
    "        self.model.compile(\n",
    "            loss='categorical_crossentropy',\n",
    "            optimizer=SGD(lr=1e-4),\n",
    "            metrics=['accuracy'])\n",
    "\n",
    "    def _transform(self, x):\n",
    "        # adding channel dimension at the last position\n",
    "        x = np.expand_dims(x, axis=-1)\n",
    "        # bringing input between 0 and 1\n",
    "        x = x / 255.\n",
    "        return x\n",
    "\n",
    "    def fit(self, img_loader):\n",
    "        # load the full data into memory\n",
    "        nb = len(img_loader)\n",
    "        # make a 4D tensor:\n",
    "        # number of images x width x height x number of channels\n",
    "        X = np.zeros((nb, 28, 28, 1))\n",
    "        # one-hot encoding of the labels to set NN target\n",
    "        Y = np.zeros((nb, 10))\n",
    "        for i in range(nb):\n",
    "            x, y = img_loader.load(i)\n",
    "            X[i] = self._transform(x)\n",
    "            # since labels are [0, ..., 9], label is the same as label index\n",
    "            Y[i, y] = 1\n",
    "        self.model.fit(X, Y, batch_size=32, validation_split=0.1, epochs=1)\n",
    "\n",
    "    def predict_proba(self, img_loader):\n",
    "        nb = len(img_loader)\n",
    "        X = np.zeros((nb, 28, 28, 1))\n",
    "        for i in range(nb):\n",
    "            X[i] = self._transform(img_loader.load(i))\n",
    "        return self.model.predict(X)\n",
    "\n"
   ]
  },
  {
   "cell_type": "markdown",
   "metadata": {},
   "source": [
    "### A simple keras convnet"
   ]
  },
  {
   "cell_type": "code",
   "execution_count": 32,
   "metadata": {},
   "outputs": [
    {
     "name": "stdout",
     "output_type": "stream",
     "text": [
      "Overwriting submissions/keras_convnet/image_classifier.py\n"
     ]
    }
   ],
   "source": [
    "%%file submissions/keras_convnet/image_classifier.py\n",
    "import numpy as np\n",
    "\n",
    "from keras.models import Model\n",
    "from keras.layers import Input\n",
    "from keras.layers import Dense\n",
    "from keras.layers import Conv2D\n",
    "from keras.layers import MaxPooling2D\n",
    "from keras.layers import Flatten\n",
    "from keras.optimizers import Adam\n",
    "\n",
    "class ImageClassifier(object):\n",
    "\n",
    "    def __init__(self):\n",
    "        inp = Input((28, 28, 1))\n",
    "        # Block 1\n",
    "        x = Conv2D(\n",
    "            32, (3, 3), activation='relu', padding='same',\n",
    "            name='block1_conv1')(inp)\n",
    "        x = Conv2D(\n",
    "            32, (3, 3), activation='relu', padding='same',\n",
    "            name='block1_conv2')(x)\n",
    "        x = MaxPooling2D(\n",
    "            (2, 2), strides=(2, 2),\n",
    "            name='block1_pool')(x)\n",
    "        # dense\n",
    "        x = Flatten(\n",
    "            name='flatten')(x)\n",
    "        x = Dense(\n",
    "            512, activation='relu',\n",
    "            name='fc1')(x)\n",
    "        out = Dense(10, activation='softmax', name='predictions')(x)\n",
    "        self.model = Model(inp, out)\n",
    "        self.model.compile(\n",
    "            loss='categorical_crossentropy',\n",
    "            optimizer=Adam(lr=1e-4),\n",
    "            metrics=['accuracy'])\n",
    "\n",
    "    def _transform(self, x):\n",
    "        # adding channel dimension at the last position\n",
    "        x = np.expand_dims(x, axis=-1)\n",
    "        # bringing input between 0 and 1\n",
    "        x = x / 255.\n",
    "        return x\n",
    "\n",
    "    def fit(self, img_loader):\n",
    "        # load the full data into memory\n",
    "        nb = len(img_loader)\n",
    "        # make a 4D tensor:\n",
    "        # number of images x width x height x number of channels\n",
    "        X = np.zeros((nb, 28, 28, 1))\n",
    "        # one-hot encoding of the labels to set NN target\n",
    "        Y = np.zeros((nb, 10))\n",
    "        for i in range(nb):\n",
    "            x, y = img_loader.load(i)\n",
    "            X[i] = self._transform(x)\n",
    "            # since labels are [0, ..., 9], label is the same as label index\n",
    "            Y[i, y] = 1\n",
    "        self.model.fit(X, Y, batch_size=32, validation_split=0.1, epochs=1)\n",
    "\n",
    "    def predict_proba(self, img_loader):\n",
    "        nb = len(img_loader)\n",
    "        X = np.zeros((nb, 28, 28, 1))\n",
    "        for i in range(nb):\n",
    "            X[i] = self._transform(img_loader.load(i))\n",
    "        return self.model.predict(X)\n",
    "\n"
   ]
  },
  {
   "cell_type": "markdown",
   "metadata": {},
   "source": [
    "### A simple pytorch convnet"
   ]
  },
  {
   "cell_type": "code",
   "execution_count": 3,
   "metadata": {},
   "outputs": [
    {
     "name": "stdout",
     "output_type": "stream",
     "text": [
      "Overwriting submissions/pytorch_convnet/image_classifier.py\n"
     ]
    }
   ],
   "source": [
    "%%file submissions/pytorch_convnet/image_classifier.py\n",
    "from __future__ import division\n",
    "import time\n",
    "import math\n",
    "import numpy as np\n",
    "import torch\n",
    "import torch.nn as nn\n",
    "import torch.optim as optim\n",
    "from torch.autograd import Variable\n",
    "\n",
    "is_cuda = torch.cuda.is_available()\n",
    "\n",
    "\n",
    "def _make_variable(X):\n",
    "    variable = Variable(torch.from_numpy(X))\n",
    "    if is_cuda:\n",
    "        variable = variable.cuda()\n",
    "    return variable\n",
    "\n",
    "\n",
    "def _flatten(x):\n",
    "    return x.view(x.size(0), -1)\n",
    "\n",
    "\n",
    "class Net(nn.Module):\n",
    "    def __init__(self):\n",
    "        super(Net, self).__init__()\n",
    "        self.block1 = nn.Sequential(\n",
    "            nn.Conv2d(1, 32, kernel_size=3, padding=1),\n",
    "            nn.ReLU(inplace=True),\n",
    "            nn.Conv2d(32, 32, kernel_size=3, padding=1),\n",
    "            nn.ReLU(inplace=True),\n",
    "            nn.MaxPool2d(kernel_size=2, stride=2)\n",
    "        )\n",
    "        self.fc = nn.Sequential(\n",
    "            nn.Linear(32 * 14 * 14, 512),\n",
    "            nn.ReLU(True),\n",
    "            nn.Linear(512, 10),\n",
    "        )\n",
    "        self._initialize_weights()\n",
    "\n",
    "    def forward(self, x):\n",
    "        x = self.block1(x)\n",
    "        x = _flatten(x)\n",
    "        x = self.fc(x)\n",
    "        return x\n",
    "\n",
    "    def _initialize_weights(self):\n",
    "        # Source: https://github.com/pytorch/vision/blob/master/torchvision/\n",
    "        # models/vgg.py\n",
    "        for m in self.modules():\n",
    "            if isinstance(m, nn.Conv2d):\n",
    "                n = m.kernel_size[0] * m.kernel_size[1] * m.out_channels\n",
    "                m.weight.data.normal_(0, math.sqrt(2. / n))\n",
    "                if m.bias is not None:\n",
    "                    m.bias.data.zero_()\n",
    "            elif isinstance(m, nn.Linear):\n",
    "                n = m.weight.size(1)\n",
    "                m.weight.data.normal_(0, 0.01)\n",
    "                m.bias.data.zero_()\n",
    "\n",
    "\n",
    "class ImageClassifier(object):\n",
    "\n",
    "    def __init__(self):\n",
    "        self.net = Net()\n",
    "        if is_cuda:\n",
    "            self.net = self.net.cuda()\n",
    "\n",
    "    def _transform(self, x):\n",
    "        # adding channel dimension at the first position\n",
    "        x = np.expand_dims(x, axis=0)\n",
    "        # bringing input between 0 and 1\n",
    "        x = x / 255.\n",
    "        return x\n",
    "\n",
    "    def _get_acc(self, y_pred, y_true):\n",
    "        y_pred = y_pred.cpu().data.numpy().argmax(axis=1)\n",
    "        y_true = y_true.cpu().data.numpy()\n",
    "        return (y_pred == y_true)\n",
    "\n",
    "    def _load_minibatch(self, img_loader, indexes):\n",
    "        n_minibatch_images = len(indexes)\n",
    "        X = np.zeros((n_minibatch_images, 1, 28, 28), dtype=np.float32)\n",
    "        # one-hot encoding of the labels to set NN target\n",
    "        y = np.zeros(n_minibatch_images, dtype=np.int)\n",
    "        for i, i_load in enumerate(indexes):\n",
    "            x, y[i] = img_loader.load(i_load)\n",
    "            X[i] = self._transform(x)\n",
    "            # since labels are [0, ..., 9], label is the same as label index\n",
    "        X = _make_variable(X)\n",
    "        y = _make_variable(y)\n",
    "        return X, y\n",
    "\n",
    "    def _load_test_minibatch(self, img_loader, indexes):\n",
    "        n_minibatch_images = len(indexes)\n",
    "        X = np.zeros((n_minibatch_images, 1, 28, 28), dtype=np.float32)\n",
    "        for i, i_load in enumerate(indexes):\n",
    "            x = img_loader.load(i_load)\n",
    "            X[i] = self._transform(x)\n",
    "        X = _make_variable(X)\n",
    "        return X\n",
    "\n",
    "    def fit(self, img_loader):\n",
    "        validation_split = 0.1\n",
    "        batch_size = 32\n",
    "        nb_epochs = 1\n",
    "        lr = 1e-4\n",
    "        optimizer = optim.Adam(self.net.parameters(), lr=lr)\n",
    "        criterion = nn.CrossEntropyLoss().cuda()\n",
    "        if is_cuda:\n",
    "            criterion = criterion.cuda()\n",
    "\n",
    "        for epoch in range(nb_epochs):\n",
    "            t0 = time.time()\n",
    "            self.net.train()  # train mode\n",
    "            nb_trained = 0\n",
    "            nb_updates = 0\n",
    "            train_loss = []\n",
    "            train_acc = []\n",
    "            n_images = len(img_loader) * (1 - validation_split)\n",
    "            i = 0\n",
    "            while i < n_images:\n",
    "                indexes = range(i, min(i + batch_size, n_images))\n",
    "                X, y = self._load_minibatch(img_loader, indexes)\n",
    "                i += len(indexes)\n",
    "                # zero-out the gradients because they accumulate by default\n",
    "                optimizer.zero_grad()\n",
    "                y_pred = self.net(X)\n",
    "                loss = criterion(y_pred, y)\n",
    "                loss.backward()  # compute gradients\n",
    "                optimizer.step()  # update params\n",
    "\n",
    "                # Loss and accuracy\n",
    "                train_acc.extend(self._get_acc(y_pred, y))\n",
    "                train_loss.append(loss.data[0])\n",
    "                nb_trained += X.size(0)\n",
    "                nb_updates += 1\n",
    "                if nb_updates % 100 == 0:\n",
    "                    print(\n",
    "                        'Epoch [{}/{}], [trained {}/{}], avg_loss: {:.4f}'\n",
    "                        ', avg_train_acc: {:.4f}'.format(\n",
    "                            epoch + 1, nb_epochs, nb_trained, n_images,\n",
    "                            np.mean(train_loss), np.mean(train_acc)))\n",
    "\n",
    "            self.net.eval()  # eval mode\n",
    "            valid_acc = []\n",
    "            n_images = len(img_loader)\n",
    "            while i < n_images:\n",
    "                indexes = range(i, min(i + batch_size, n_images))\n",
    "                X, y = self._load_minibatch(img_loader, indexes)\n",
    "                i += len(indexes)\n",
    "                y_pred = self.net(X)\n",
    "                valid_acc.extend(self._get_acc(y_pred, y))\n",
    "\n",
    "            delta_t = time.time() - t0\n",
    "            print('Finished epoch {}'.format(epoch + 1))\n",
    "            print('Time spent : {:.4f}'.format(delta_t))\n",
    "            print('Train acc : {:.4f}'.format(np.mean(train_acc)))\n",
    "            print('Valid acc : {:.4f}'.format(np.mean(valid_acc)))\n",
    "\n",
    "    def predict_proba(self, img_loader):\n",
    "        batch_size = 32\n",
    "        n_images = len(img_loader)\n",
    "        i = 0\n",
    "        y_proba = np.empty((n_images, 10))\n",
    "        while i < n_images:\n",
    "            indexes = range(i, min(i + batch_size, n_images))\n",
    "            X = self._load_test_minibatch(img_loader, indexes)\n",
    "            i += len(indexes)\n",
    "            y_proba[indexes] = nn.Softmax()(self.net(X)).cpu().data.numpy()\n",
    "        return y_proba\n",
    "\n"
   ]
  },
  {
   "cell_type": "markdown",
   "metadata": {},
   "source": [
    "## Local testing (before submission)\n",
    "\n",
    "It is <b><span style=\"color:red\">important that you test your submission files before submitting them</span></b>. For this we provide a unit test. Note that the test runs on your files in [`submissions/starting_kit`](/tree/submissions/starting_kit), not on the classes defined in the cells of this notebook.\n",
    "\n",
    "First `pip install ramp-workflow` or install it from the [github repo](https://github.com/paris-saclay-cds/ramp-workflow). Make sure that the python file `image_classifier.py` is in the  [`submissions/starting_kit`](/tree/submissions/starting_kit) folder, and the data `train.csv` and `test.csv` are in [`data`](/tree/data). If you haven't yet, download the images by executing `python download_data.py`. Then run\n",
    "\n",
    "```ramp_test_submission```\n",
    "\n",
    "If it runs and print training and test errors on each fold, then you can submit the code."
   ]
  },
  {
   "cell_type": "code",
   "execution_count": 1,
   "metadata": {},
   "outputs": [
    {
     "name": "stdout",
     "output_type": "stream",
     "text": [
      "Testing MNIST classification\n",
      "Reading train and test files from ./data ...\n",
      "Reading cv ...\n",
      "Training ./submissions/starting_kit ...\n",
      "Using TensorFlow backend.\n",
      "Train on 34560 samples, validate on 3840 samples\n",
      "Epoch 1/1\n",
      "W tensorflow/core/platform/cpu_feature_guard.cc:45] The TensorFlow library wasn't compiled to use SSE4.1 instructions, but these are available on your machine and could speed up CPU computations.\n",
      "W tensorflow/core/platform/cpu_feature_guard.cc:45] The TensorFlow library wasn't compiled to use SSE4.2 instructions, but these are available on your machine and could speed up CPU computations.\n",
      "W tensorflow/core/platform/cpu_feature_guard.cc:45] The TensorFlow library wasn't compiled to use AVX instructions, but these are available on your machine and could speed up CPU computations.\n",
      "W tensorflow/core/platform/cpu_feature_guard.cc:45] The TensorFlow library wasn't compiled to use AVX2 instructions, but these are available on your machine and could speed up CPU computations.\n",
      "W tensorflow/core/platform/cpu_feature_guard.cc:45] The TensorFlow library wasn't compiled to use FMA instructions, but these are available on your machine and could speed up CPU computations.\n",
      "34560/34560 [==============================] - 3s - loss: 2.3441 - acc: 0.1071 - val_loss: 2.2978 - val_acc: 0.1289\n",
      "CV fold 0\n",
      "\ttrain acc = 0.132\n",
      "\tvalid acc = 0.132\n",
      "\ttest acc = 0.129\n",
      "\ttrain nll = 2.294\n",
      "\tvalid nll = 2.294\n",
      "\ttest nll = 2.293\n",
      "----------------------------\n",
      "train acc = 0.132 ± 0.0\n",
      "train nll = 2.294 ± 0.0\n",
      "valid acc = 0.132 ± 0.0\n",
      "valid nll = 2.294 ± 0.0\n",
      "test acc = 0.129 ± 0.0\n",
      "test nll = 2.293 ± 0.0\n"
     ]
    }
   ],
   "source": [
    "!ramp_test_submission"
   ]
  },
  {
   "cell_type": "markdown",
   "metadata": {},
   "source": [
    "## Submitting to [ramp.studio](http://ramp.studio)\n",
    "\n",
    "Once you found a good feature extractor and classifier, you can submit them to [ramp.studio](http://www.ramp.studio). First, if it is your first time using RAMP, [sign up](http://www.ramp.studio/sign_up), otherwise [log in](http://www.ramp.studio/login). Then find an open event on the particular problem, for example, the event [MNIST](http://www.ramp.studio/events/MNIST_simplified) for this RAMP. Sign up for the event. Both signups are controled by RAMP administrators, so there **can be a delay between asking for signup and being able to submit**.\n",
    "\n",
    "Once your signup request is accepted, you can go to your [sandbox](http://www.ramp.studio/events/MNIST_simplified/sandbox) and copy-paste (or upload) [`image_preprocessor.py`](/edit/submissions/starting_kit/image_preprocessor.py) and [`batch_classifier.py`](/edit/submissions/starting_kit/batch_classifier.py) from `submissions/starting_kit`. Save it, rename it, then submit it. The submission is trained and tested on our backend in the same way as `ramp_test_submission` does it locally. While your submission is waiting in the queue and being trained, you can find it in the \"New submissions (pending training)\" table in [my submissions](http://www.ramp.studio/events/MNIST_simplified/my_submissions). Once it is trained, you get a mail, and your submission shows up on the [public leaderboard](http://www.ramp.studio/events/MNIST_simplified/leaderboard). \n",
    "If there is an error (despite having tested your submission locally with `ramp_test_submission`), it will show up in the \"Failed submissions\" table in [my submissions](http://www.ramp.studio/events/MNIST_simplified/my_submissions). You can click on the error to see part of the trace.\n",
    "\n",
    "After submission, do not forget to give credits to the previous submissions you reused or integrated into your submission.\n",
    "\n",
    "The data set we use at the backend is usually different from what you find in the starting kit, so the score may be different.\n",
    "\n",
    "The usual way to work with RAMP is to explore solutions, add feature transformations, select models, perhaps do some AutoML/hyperopt, etc., _locally_, and checking them with `ramp_test_submission`. The script prints mean cross-validation scores \n",
    "```\n",
    "----------------------------\n",
    "train acc = 0.132 ± 0.0\n",
    "train nll = 2.294 ± 0.0\n",
    "valid acc = 0.132 ± 0.0\n",
    "valid nll = 2.294 ± 0.0\n",
    "test acc = 0.129 ± 0.0\n",
    "test nll = 2.293 ± 0.0\n",
    "```\n",
    "The official score in this RAMP (the first score column after \"historical contributivity\" on the [leaderboard](http://www.ramp.studio/events/MNIST_simplified/leaderboard)) is balanced accuracy aka macro-averaged recall, so the line that is relevant in the output of `ramp_test_submission` is `valid acc = 0.132 ± 0.0`. When the score is good enough, you can submit it at the RAMP."
   ]
  },
  {
   "cell_type": "markdown",
   "metadata": {},
   "source": [
    "## More information\n",
    "\n",
    "You can find more information in the [README](https://github.com/paris-saclay-cds/ramp-workflow/blob/master/README.md) of the [ramp-workflow library](https://github.com/paris-saclay-cds/ramp-workflow)."
   ]
  },
  {
   "cell_type": "markdown",
   "metadata": {},
   "source": [
    "## Contact\n",
    "\n",
    "Don't hesitate to [contact us](mailto:admin@ramp.studio?subject=MNIST simplified notebook)."
   ]
  }
 ],
 "metadata": {
  "anaconda-cloud": {},
  "kernelspec": {
   "display_name": "Python 2",
   "language": "python",
   "name": "python2"
  },
  "language_info": {
   "codemirror_mode": {
    "name": "ipython",
    "version": 2
   },
   "file_extension": ".py",
   "mimetype": "text/x-python",
   "name": "python",
   "nbconvert_exporter": "python",
   "pygments_lexer": "ipython2",
   "version": "2.7.12"
  }
 },
 "nbformat": 4,
 "nbformat_minor": 1
}
