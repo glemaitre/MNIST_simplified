{
 "cells": [
  {
   "cell_type": "markdown",
   "metadata": {},
   "source": [
    "# [Paris Saclay Center for Data Science](http://www.datascience-paris-saclay.fr)\n",
    "\n",
    "## [RAMP](https://www.ramp.studio/problems/MNIST) MNIST handwritten digit classification\n",
    "\n",
    "_Mehdi Cherti (CNRS), Balázs Kégl (CNRS)_\n",
    "    \n",
    "## Introduction\n",
    "\n",
    "\n",
    "\n",
    "## Data\n",
    "\n",
    "\n",
    "\n",
    "## The prediction task\n",
    "\n",
    "The goal of this RAMP is to classify correctly handwritten digits. For each submission, you will have to provide an image preprocessor (to standardize, resize, crop, augment images) and batch classifier, which will fit a training set and predict the classes (species) on a test set. The images are big so loading them into the memory at once is impossible. The batch classifier therefore will access them through a generator which can be \"asked for\" a certain number of training and validation images at a time. You will typically run one minibatch of stochastique gradient descent on these images to train a deep convolutional neural networks which are the state of the art in image classification.\n",
    "\n",
    "## Hints\n",
    "\n",
    "First of all, even though 68K images is relatively small compared to industrial level data sets, to achieve state-of-the-art performance, you will need big networks which will take ages (days) to train on a CPU. If you want to have a faster turnaround for tuning your net, you will need a GPU-equipped server of could instance. Setting up an AWS instance is easy, just follow [this tutorial](https://medium.com/@mateuszsieniawski/keras-with-gpu-on-amazon-ec2-a-step-by-step-instruction-4f90364e49ac#.dariq7i2u). If you want to have the starting kit preinstalled, use the community AMI \"pollenating_insects_2_users\".\n",
    "\n",
    "Your main bottleneck is memory. E.g., increasing the resolution to 128x128, you will need to decrease batch size. You should always run user_test_submission.py on the AWS node before submitting.\n",
    "\n",
    "For learning the nuts and bolts of convolutional nets, we suggest that you follow [Andrej Karpathy’s excellent course](http://cs231n.github.io).\n",
    "\n",
    "You have some trivial \"classical\" options to explore. You should set the epoch size to something more than three (in the starting kit). You should check when the validation error curve flattens because you will also be graded on training and test time. You can change the network architecture, apply different regularization techniques to control overfitting, optimization options to control underfitting.\n",
    "\n",
    "You can use pretrained nets from [here](https://github.com/fchollet/deep-learning-models). There are a couple of examples in the starting kit. Your options are the following.\n",
    "\n",
    "* Retrain or not the weights. If you do not, you are using the pretrained net as fixed a feature extractor. You can add some layers on the top of the output of the pretrained net, and only train your layers. If you retrain all the layers, you use the pretrained net as an initialization. Again, your goal is not only to increase accuracy but also to be frugal. Retraining the full net is obviously more expensive.\n",
    "* You can \"read out\" the activations from any layer, you do not need to keep the full net, not even the full convolutional stack.\n",
    "* The starting kit contains examples with the VGG16 net, but feel free to use any of the other popular nets. Just note that there is no way to change the architecture of these nets. In particular, each net expects images of a given dimension so your image preprocessing needs to resize or crop the images to the right size.\n",
    "\n",
    "\n",
    "You can also adjust the image preprocessing. Resizing to small (64x64 or even 32x32) will make the training faster so you can explore more hyperparameters, but the details will be lost so your final result will probably be suboptimal. Insects are mostly centered in the images but there are a lot of smaller insects which could be cropped for a better performance. You can also rotate the images or apply other data augmentation tricks (google \"convolutional nets data augmentation\"). You should also look at the actual images to get some inspiration to find meaningful preprocessing ideas.\n",
    "\n",
    "You can also get inspired by looking at the submissions of the [first edition](http://www.ramp.studio/events/pollenating_insects_M1XMAP583_M2HECXMAP542_201617) (after signing up)."
   ]
  },
  {
   "cell_type": "code",
   "execution_count": 1,
   "metadata": {
    "collapsed": true
   },
   "outputs": [],
   "source": [
    "import os\n",
    "import numpy as np\n",
    "import pandas as pd\n",
    "from skimage.io import imread\n",
    "from sklearn.model_selection import StratifiedShuffleSplit\n",
    "from sklearn.metrics import accuracy_score\n",
    "import matplotlib.pyplot as plt\n",
    "from mpl_toolkits.axes_grid1 import AxesGrid\n",
    "from matplotlib import cm\n",
    "\n",
    "%matplotlib inline\n",
    "\n",
    "pd.set_option('display.max_rows', 500)"
   ]
  },
  {
   "cell_type": "markdown",
   "metadata": {},
   "source": [
    "# The data"
   ]
  },
  {
   "cell_type": "markdown",
   "metadata": {},
   "source": [
    "If the images are not yet in `data/imgs`, change the type of the net cell to \"Code\" and run it."
   ]
  },
  {
   "cell_type": "raw",
   "metadata": {},
   "source": [
    "!python download_data.py"
   ]
  },
  {
   "cell_type": "code",
   "execution_count": 2,
   "metadata": {
    "collapsed": true
   },
   "outputs": [],
   "source": [
    "df = pd.read_csv('data/train.csv')\n",
    "X_df = df['id']\n",
    "y_df = df['class']\n",
    "X = X_df.values\n",
    "y = y_df.values"
   ]
  },
  {
   "cell_type": "markdown",
   "metadata": {},
   "source": [
    "The class distribution is balanced."
   ]
  },
  {
   "cell_type": "code",
   "execution_count": 3,
   "metadata": {},
   "outputs": [
    {
     "data": {
      "text/html": [
       "<div>\n",
       "<table border=\"1\" class=\"dataframe\">\n",
       "  <thead>\n",
       "    <tr style=\"text-align: right;\">\n",
       "      <th></th>\n",
       "      <th>id</th>\n",
       "    </tr>\n",
       "    <tr>\n",
       "      <th>class</th>\n",
       "      <th></th>\n",
       "    </tr>\n",
       "  </thead>\n",
       "  <tbody>\n",
       "    <tr>\n",
       "      <th>0</th>\n",
       "      <td>4742</td>\n",
       "    </tr>\n",
       "    <tr>\n",
       "      <th>1</th>\n",
       "      <td>5370</td>\n",
       "    </tr>\n",
       "    <tr>\n",
       "      <th>2</th>\n",
       "      <td>4795</td>\n",
       "    </tr>\n",
       "    <tr>\n",
       "      <th>3</th>\n",
       "      <td>4914</td>\n",
       "    </tr>\n",
       "    <tr>\n",
       "      <th>4</th>\n",
       "      <td>4675</td>\n",
       "    </tr>\n",
       "    <tr>\n",
       "      <th>5</th>\n",
       "      <td>4337</td>\n",
       "    </tr>\n",
       "    <tr>\n",
       "      <th>6</th>\n",
       "      <td>4709</td>\n",
       "    </tr>\n",
       "    <tr>\n",
       "      <th>7</th>\n",
       "      <td>4998</td>\n",
       "    </tr>\n",
       "    <tr>\n",
       "      <th>8</th>\n",
       "      <td>4707</td>\n",
       "    </tr>\n",
       "    <tr>\n",
       "      <th>9</th>\n",
       "      <td>4753</td>\n",
       "    </tr>\n",
       "  </tbody>\n",
       "</table>\n",
       "</div>"
      ],
      "text/plain": [
       "         id\n",
       "class      \n",
       "0      4742\n",
       "1      5370\n",
       "2      4795\n",
       "3      4914\n",
       "4      4675\n",
       "5      4337\n",
       "6      4709\n",
       "7      4998\n",
       "8      4707\n",
       "9      4753"
      ]
     },
     "execution_count": 3,
     "metadata": {},
     "output_type": "execute_result"
    }
   ],
   "source": [
    "labels_counts_df = df.groupby('class').count()\n",
    "labels_counts_df"
   ]
  },
  {
   "cell_type": "markdown",
   "metadata": {},
   "source": [
    "It is worthwhile to look at some image panels, grouped by label. "
   ]
  },
  {
   "cell_type": "code",
   "execution_count": 4,
   "metadata": {},
   "outputs": [
    {
     "name": "stderr",
     "output_type": "stream",
     "text": [
      "/Users/kegl/anaconda/lib/python2.7/site-packages/matplotlib/figure.py:1744: UserWarning: This figure includes Axes that are not compatible with tight_layout, so its results might be incorrect.\n",
      "  warnings.warn(\"This figure includes Axes that are not \"\n"
     ]
    },
    {
     "data": {
      "image/png": "[encoded data removed]",
      "text/plain": [
       "<matplotlib.figure.Figure at 0x111b8fc90>"
      ]
     },
     "metadata": {},
     "output_type": "display_data"
    }
   ],
   "source": [
    "nb_rows = 4\n",
    "nb_cols = 4\n",
    "nb_elements = nb_rows * nb_cols\n",
    "label = 8\n",
    "\n",
    "df_given_label = df[df['class']==label]\n",
    "\n",
    "subsample = np.random.choice(df_given_label['id'], replace=False, size=nb_elements)\n",
    "\n",
    "fig = plt.figure(figsize=(4, 4))\n",
    "grid = AxesGrid(fig, 111, # similar to subplot(141)\n",
    "                nrows_ncols = (nb_rows, nb_cols),\n",
    "                axes_pad = 0.05,\n",
    "                label_mode = \"1\",\n",
    ")\n",
    "for i, image_id in enumerate(subsample):\n",
    "    filename = 'data/imgs/{}'.format(image_id)\n",
    "    image = imread(filename)\n",
    "    im = grid[i].imshow(image, cmap='Greys', interpolation='nearest')\n",
    "    grid[i].axis('off')\n",
    "plt.tight_layout()"
   ]
  },
  {
   "cell_type": "markdown",
   "metadata": {},
   "source": [
    "All images have size 28 $\\times$ 28."
   ]
  },
  {
   "cell_type": "code",
   "execution_count": 43,
   "metadata": {},
   "outputs": [
    {
     "data": {
      "text/plain": [
       "(28, 28)"
      ]
     },
     "execution_count": 43,
     "metadata": {},
     "output_type": "execute_result"
    }
   ],
   "source": [
    "image.shape"
   ]
  },
  {
   "cell_type": "code",
   "execution_count": 47,
   "metadata": {
    "collapsed": true
   },
   "outputs": [],
   "source": [
    "n_subsample = 1000\n",
    "shapes = np.empty((n_subsample, 2))\n",
    "for i, image_id in enumerate(X_df[:n_subsample]):\n",
    "    filename = 'data/imgs/{}'.format(image_id)\n",
    "    image = imread(filename)\n",
    "    shapes[i] = image.shape"
   ]
  },
  {
   "cell_type": "code",
   "execution_count": 48,
   "metadata": {},
   "outputs": [
    {
     "data": {
      "text/html": [
       "<div>\n",
       "<table border=\"1\" class=\"dataframe\">\n",
       "  <thead>\n",
       "    <tr style=\"text-align: right;\">\n",
       "      <th></th>\n",
       "      <th></th>\n",
       "      <th>count</th>\n",
       "    </tr>\n",
       "    <tr>\n",
       "      <th>height</th>\n",
       "      <th>width</th>\n",
       "      <th></th>\n",
       "    </tr>\n",
       "  </thead>\n",
       "  <tbody>\n",
       "    <tr>\n",
       "      <th>28.0</th>\n",
       "      <th>28.0</th>\n",
       "      <td>1000</td>\n",
       "    </tr>\n",
       "  </tbody>\n",
       "</table>\n",
       "</div>"
      ],
      "text/plain": [
       "              count\n",
       "height width       \n",
       "28.0   28.0    1000"
      ]
     },
     "execution_count": 48,
     "metadata": {},
     "output_type": "execute_result"
    }
   ],
   "source": [
    "shapes_df = pd.DataFrame(shapes, columns=['height', 'width'])\n",
    "shapes_df['count'] = 0\n",
    "shapes_df.groupby(['height', 'width']).count().sort_values('count', ascending=False)"
   ]
  },
  {
   "cell_type": "code",
   "execution_count": 49,
   "metadata": {},
   "outputs": [
    {
     "data": {
      "text/plain": [
       "<matplotlib.axes._subplots.AxesSubplot at 0x115c1cdd0>"
      ]
     },
     "execution_count": 49,
     "metadata": {},
     "output_type": "execute_result"
    },
    {
     "data": {
      "image/png": "[encoded data removed]",
      "text/plain": [
       "<matplotlib.figure.Figure at 0x1178d1d10>"
      ]
     },
     "metadata": {},
     "output_type": "display_data"
    }
   ],
   "source": [
    "shapes_df['height'].hist()"
   ]
  },
  {
   "cell_type": "markdown",
   "metadata": {},
   "source": [
    "# Image preprocessing\n",
    "\n",
    "In the first workflow element image_preprocessor.py you can resize, crop, or rotate the images. This is an important step. Neural nets need standard-size images defined by the dimension of the input layer. MNIST images are centered and resized, so these operations are unlikely to be useful but rotation may help."
   ]
  },
  {
   "cell_type": "code",
   "execution_count": 67,
   "metadata": {},
   "outputs": [
    {
     "data": {
      "image/png": "[encoded data removed]",
      "text/plain": [
       "<matplotlib.figure.Figure at 0x116a1c990>"
      ]
     },
     "metadata": {},
     "output_type": "display_data"
    }
   ],
   "source": [
    "filename = 'data/imgs/{}'.format(X_df[161])\n",
    "image = imread(filename)\n",
    "plt.imshow(image, cmap='Greys', interpolation='nearest')\n",
    "plt.show()"
   ]
  },
  {
   "cell_type": "markdown",
   "metadata": {},
   "source": [
    "Here we resize the images to different resolutions, then blow them up so the difference can be visible."
   ]
  },
  {
   "cell_type": "code",
   "execution_count": 66,
   "metadata": {},
   "outputs": [
    {
     "data": {
      "image/png": "[encoded data removed]",
      "text/plain": [
       "<matplotlib.figure.Figure at 0x116cd5790>"
      ]
     },
     "metadata": {},
     "output_type": "display_data"
    }
   ],
   "source": [
    "from skimage.transform import resize\n",
    "\n",
    "nb_rows = 1\n",
    "nb_cols = 2\n",
    "nb_elements = nb_rows * nb_cols\n",
    "\n",
    "\n",
    "fig = plt.figure(figsize=(4, 4))\n",
    "grid = AxesGrid(fig, 111, # similar to subplot(141)\n",
    "                nrows_ncols = (nb_rows, nb_cols),\n",
    "                axes_pad = 0.05,\n",
    "                label_mode = \"1\",\n",
    ")\n",
    "grid[0].imshow(\n",
    "    resize(resize(image, (16, 16)), (224, 224), order=0),\n",
    "    cmap='Greys', interpolation='nearest')\n",
    "grid[0].axis('off')\n",
    "grid[1].imshow(\n",
    "    resize(resize(image, (8, 8)), (224, 224), order=0),\n",
    "    cmap='Greys', interpolation='nearest')\n",
    "grid[1].axis('off')\n",
    "plt.tight_layout()"
   ]
  },
  {
   "cell_type": "markdown",
   "metadata": {},
   "source": [
    "Here we rotate the image. Explore options in skimage."
   ]
  },
  {
   "cell_type": "code",
   "execution_count": 69,
   "metadata": {},
   "outputs": [
    {
     "data": {
      "image/png": "[encoded data removed]",
      "text/plain": [
       "<matplotlib.figure.Figure at 0x117b266d0>"
      ]
     },
     "metadata": {},
     "output_type": "display_data"
    }
   ],
   "source": [
    "from skimage.transform import rotate\n",
    "\n",
    "nb_rows = 1\n",
    "nb_cols = 4\n",
    "nb_elements = nb_rows * nb_cols\n",
    "\n",
    "fig = plt.figure(figsize=(10, 10))\n",
    "grid = AxesGrid(fig, 111, # similar to subplot(141)\n",
    "                nrows_ncols = (nb_rows, nb_cols),\n",
    "                axes_pad = 0.05,\n",
    "                label_mode = \"1\",\n",
    ")\n",
    "grid[0].imshow(rotate(image, 30), cmap='Greys', interpolation='nearest')\n",
    "grid[0].axis('off')\n",
    "grid[1].imshow(rotate(image, 45), cmap='Greys', interpolation='nearest')\n",
    "grid[1].axis('off')\n",
    "grid[2].imshow(rotate(image, 60), cmap='Greys', interpolation='nearest')\n",
    "grid[2].axis('off')\n",
    "grid[3].imshow(rotate(image, 75), cmap='Greys', interpolation='nearest')\n",
    "grid[3].axis('off')\n",
    "plt.tight_layout()"
   ]
  },
  {
   "cell_type": "markdown",
   "metadata": {},
   "source": [
    "All these tansformations should be implemented in the transform function found in the `image_preprocessor` workflow element that you will submit."
   ]
  },
  {
   "cell_type": "markdown",
   "metadata": {},
   "source": [
    "## The pipeline\n",
    "\n",
    "For submitting at the [RAMP site](http://ramp.studio), you will have to write two classes, saved in two different files:   \n",
    "* the function `image_preprocessor`, which will be used to transform the images. \n",
    "* a class `BatchClassifier` that will handle the training and prediction using sample generators.\n",
    "\n",
    "Note that the following code cells are *not* executed in the notebook. The notebook saves their contents in the file specified in the first line of the cell, so you can edit your submission before running the local test below and submitting it at the RAMP site."
   ]
  },
  {
   "cell_type": "markdown",
   "metadata": {},
   "source": [
    "### Image preprocessor\n",
    "\n",
    "MNIST contains well-centered and aligned images so we do nothing in the image preprocessor."
   ]
  },
  {
   "cell_type": "code",
   "execution_count": 70,
   "metadata": {},
   "outputs": [
    {
     "name": "stdout",
     "output_type": "stream",
     "text": [
      "Overwriting submissions/starting_kit/image_preprocessor.py\n"
     ]
    }
   ],
   "source": [
    "%%file submissions/starting_kit/image_preprocessor.py\n",
    "def transform(x):\n",
    "    return x\n",
    "\n"
   ]
  },
  {
   "cell_type": "markdown",
   "metadata": {},
   "source": [
    "### The batch classifier\n",
    "\n",
    "Your convnet models will be implemented in the `batch_classifier.py` workflow element. The model is usually implemented in a separate `build_model` function which is called from `init`. It does not do any computation, just builds the network architecture. Your main task is to find the right architecture for this data set. Every parameter is \"free\": the size of the input layer (which should match the preprocessing you do in `image_preprocessing.transform`), the number and composition of the convolutional blocks, the size and number of filters in each layer, the number and size of the fully connected layers, the regularization that you apply (usually only on the fully connected layers), and the optimizer. In addition, in the fit function you shold decide the size of the minibatches and the number of epochs. \n",
    "\n",
    "The starting kit is using [keras](https://keras.io). MNIST could be loaded into memory at once, but in general, image data sets are too big for this, so instead of a set of images, your `batch_classifier.fit` function will receive a <i>generator</i>. The type of this generator is `BatchGeneratorBuilder` that you can find in [`rampwf.workflows.image_classifier`](https://github.com/paris-saclay-cds/ramp-workflow/blob/master/rampwf/workflows/image_classifier.py). You will interact with it by calling its `get_train_valid_generators` function. This function will still not return data, since typically you would call the `fit` function of a keras neural net with it, which would again result in filling the memory too fast. Instead, it returns two other generators that you will pass to the `fit_generator` function of a keras model. Why two? The first generator will generate _training_ images for keras, and the second generator generates _validation_ images, which you can use to monitor the learning curves when developing the model. Normally you will not need validation samples in your submission (only when you develop your models outside of the RAMP server) unless you implement automatic early stopping based on validation accuracy.\n",
    "\n",
    "The `BatchGeneratorBuilder.get_train_valid_generators` function expects two parameters:\n",
    "* `valid_ratio`: the ratio of the minibatch that should be used for validation, typically 0.1, and\n",
    "* `batch_size`: the number of images keras' `fit_generator` will get for every minibatch.\n",
    "The batch size is an important hyperparameter. Statistically, a larger batch size means more precise gradient estimates but computationally slower steps. More importantly, you will have to carefully set the batch size for staying within the memory, depending on the input image size, your network architecture, and your backend. In the starting kit we use 32 images per minibatch. "
   ]
  },
  {
   "cell_type": "code",
   "execution_count": 72,
   "metadata": {},
   "outputs": [
    {
     "name": "stdout",
     "output_type": "stream",
     "text": [
      "Overwriting submissions/starting_kit/batch_classifier.py\n"
     ]
    }
   ],
   "source": [
    "%%file submissions/starting_kit/batch_classifier.py\n",
    "from keras.models import Model\n",
    "from keras.layers import Input\n",
    "from keras.layers import Dense\n",
    "from keras.layers import Flatten\n",
    "from keras.optimizers import SGD\n",
    "from rampwf.workflows.image_classifier import get_nb_minibatches\n",
    "\n",
    "\n",
    "class BatchClassifier(object):\n",
    "    def __init__(self):\n",
    "        self.model = self._build_model()\n",
    "\n",
    "    def fit(self, gen_builder):\n",
    "        batch_size = 32\n",
    "        gen_train, gen_valid, nb_train, nb_valid =\\\n",
    "            gen_builder.get_train_valid_generators(\n",
    "                batch_size=batch_size, valid_ratio=0.1)\n",
    "        self.model.fit_generator(\n",
    "            gen_train,\n",
    "            # Total number of steps (batches of samples) to yield from\n",
    "            # generator before declaring one epoch finished and starting the\n",
    "            # next epoch. It should typically be equal to the number of unique\n",
    "            # samples of your dataset divided by the batch size.\n",
    "            steps_per_epoch=get_nb_minibatches(nb_train, batch_size),\n",
    "            epochs=1,\n",
    "            # In parallel to training, a CPU process loads and preprocesses\n",
    "            # data from disk and put it into a queue in the form of\n",
    "            # mini-batches of size `batch_size`.`max_queue_size` controls the\n",
    "            # maximum size of that queue. The size of the queue should be big\n",
    "            # enough so that the training process (GPU) never\n",
    "            # waits for data (the queue should be never be empty).\n",
    "            # The CPU process loads chunks of 1024 images each time, and\n",
    "            # 1024/batch_size mini-batches from that chunk are put into the\n",
    "            # queue. Assuming training the model on those 1024/batch_size\n",
    "            # mini-batches is slower than loading a single chunk of 1024\n",
    "            # images, a good lower bound for `max_queue_size` would be\n",
    "            # (1024/batch_size). if `batch_size` is 16, you can put\n",
    "            # `max_queue_size` to 64.\n",
    "            max_queue_size=64,\n",
    "            # WARNING : It is obligatory to set `workers` to 1.\n",
    "            # This in principle controls the number of workers used\n",
    "            # by keras to load mini-batches from disk to memory in parallel\n",
    "            # to GPU training. But I don't like the way it works and their\n",
    "            # code is not very commented/used, so I dont trust it that much\n",
    "            # (we might have surprises).\n",
    "            # The way it works in keras is by launching in parallel `workers`\n",
    "            # threads or processes which will all use a copy of the generator\n",
    "            # passed to `fit_generator`. So if nothing is done and `workers`\n",
    "            # is set to some number > 1, the neural net will be trained with\n",
    "            # repetitions of the same data, because the workers are independent\n",
    "            # and they got through the same generator.\n",
    "            # Hence it is necessary to introduce a shared lock between the the\n",
    "            # processes so that they load different data, this can become a bit\n",
    "            # complicated, so I choose to rather load exactly one chunk at a\n",
    "            # time using 1 worker (so `workers` have to be equal to 1), but\n",
    "            # do this single chunk loading in parallel with joblib.\n",
    "            workers=1,\n",
    "            use_multiprocessing=True,\n",
    "            validation_data=gen_valid,\n",
    "            validation_steps=get_nb_minibatches(nb_valid, batch_size),\n",
    "            verbose=1)\n",
    "\n",
    "    def predict_proba(self, X):\n",
    "        return self.model.predict(X)\n",
    "\n",
    "    def _build_model(self):\n",
    "        inp = Input((1, 28, 28))\n",
    "        x = Flatten(name='flatten')(inp)\n",
    "        x = Dense(100, activation='relu', name='fc1')(x)\n",
    "        out = Dense(10, activation='softmax', name='predictions')(x)\n",
    "        model = Model(inp, out)\n",
    "        model.compile(\n",
    "            loss='categorical_crossentropy',\n",
    "            optimizer=SGD(lr=1e-4),\n",
    "            metrics=['accuracy'])\n",
    "        return model\n",
    "\n"
   ]
  },
  {
   "cell_type": "markdown",
   "metadata": {},
   "source": [
    "## Local testing (before submission)\n",
    "\n",
    "It is <b><span style=\"color:red\">important that you test your submission files before submitting them</span></b>. For this we provide a unit test. Note that the test runs on your files in [`submissions/starting_kit`](/tree/submissions/starting_kit), not on the classes defined in the cells of this notebook.\n",
    "\n",
    "First `pip install ramp-workflow` or install it from the [github repo](https://github.com/paris-saclay-cds/ramp-workflow). Make sure that the python files `image_preprocessor.py` and `batch_classifier.py` are in the  [`submissions/starting_kit`](/tree/submissions/starting_kit) folder, and the data `train.csv` and `test.csv` are in [`data`](/tree/data). If you haven't yet, downlad the images by executing `python download_data.py`. Then run\n",
    "\n",
    "```ramp_test_submission```\n",
    "\n",
    "If it runs and print training and test errors on each fold, then you can submit the code."
   ]
  },
  {
   "cell_type": "code",
   "execution_count": 73,
   "metadata": {},
   "outputs": [
    {
     "name": "stdout",
     "output_type": "stream",
     "text": [
      "Testing MNIST classification\n",
      "Reading train and test files from ./data ...\n",
      "Reading cv ...\n",
      "Training ./submissions/starting_kit ...\n",
      "Using TensorFlow backend.\n",
      "Epoch 1/1\n",
      "W tensorflow/core/platform/cpu_feature_guard.cc:45] The TensorFlow library wasn't compiled to use SSE4.1 instructions, but these are available on your machine and could speed up CPU computations.\n",
      "W tensorflow/core/platform/cpu_feature_guard.cc:45] The TensorFlow library wasn't compiled to use SSE4.2 instructions, but these are available on your machine and could speed up CPU computations.\n",
      "W tensorflow/core/platform/cpu_feature_guard.cc:45] The TensorFlow library wasn't compiled to use AVX instructions, but these are available on your machine and could speed up CPU computations.\n",
      "W tensorflow/core/platform/cpu_feature_guard.cc:45] The TensorFlow library wasn't compiled to use AVX2 instructions, but these are available on your machine and could speed up CPU computations.\n",
      "W tensorflow/core/platform/cpu_feature_guard.cc:45] The TensorFlow library wasn't compiled to use FMA instructions, but these are available on your machine and could speed up CPU computations.\n",
      "1080/1080 [==============================] - 36s - loss: 9.0336 - acc: 0.4248 - val_loss: 7.1904 - val_acc: 0.5393\n",
      "Warning: model can't be pickled.\n",
      "can't set attributes of built-in/extension type 'tuple'\n",
      "CV fold 0\n",
      "\ttrain acc = 0.55\n",
      "\tvalid acc = 0.55\n",
      "\ttest acc = 0.55\n",
      "\ttrain nll = 14.53\n",
      "\tvalid nll = 14.65\n",
      "\ttest nll = 14.6\n",
      "----------------------------\n",
      "train acc = 0.55 ± 0.0\n",
      "train nll = 14.53 ± 0.0\n",
      "valid acc = 0.55 ± 0.0\n",
      "valid nll = 14.65 ± 0.0\n",
      "test acc = 0.55 ± 0.0\n",
      "test nll = 14.6 ± 0.0\n"
     ]
    }
   ],
   "source": [
    "!ramp_test_submission"
   ]
  },
  {
   "cell_type": "markdown",
   "metadata": {},
   "source": [
    "## Submitting to [ramp.studio](http://ramp.studio)\n",
    "\n",
    "Once you found a good feature extractor and classifier, you can submit them to [ramp.studio](http://www.ramp.studio). First, if it is your first time using RAMP, [sign up](http://www.ramp.studio/sign_up), otherwise [log in](http://www.ramp.studio/login). Then find an open event on the particular problem, for example, the event [MNIST](http://www.ramp.studio/events/MNIST) for this RAMP. Sign up for the event. Both signups are controled by RAMP administrators, so there **can be a delay between asking for signup and being able to submit**.\n",
    "\n",
    "Once your signup request is accepted, you can go to your [sandbox](http://www.ramp.studio/events/MNIST/sandbox) and copy-paste (or upload) [`image_preprocessor.py`](/edit/submissions/starting_kit/image_preprocessor.py) and [`batch_classifier.py`](/edit/submissions/starting_kit/batch_classifier.py) from `submissions/starting_kit`. Save it, rename it, then submit it. The submission is trained and tested on our backend in the same way as `ramp_test_submission` does it locally. While your submission is waiting in the queue and being trained, you can find it in the \"New submissions (pending training)\" table in [my submissions](http://www.ramp.studio/events/MNIST/my_submissions). Once it is trained, you get a mail, and your submission shows up on the [public leaderboard](http://www.ramp.studio/events/MNIST/leaderboard). \n",
    "If there is an error (despite having tested your submission locally with `ramp_test_submission`), it will show up in the \"Failed submissions\" table in [my submissions](http://www.ramp.studio/events/MNIST/my_submissions). You can click on the error to see part of the trace.\n",
    "\n",
    "After submission, do not forget to give credits to the previous submissions you reused or integrated into your submission.\n",
    "\n",
    "The data set we use at the backend is usually different from what you find in the starting kit, so the score may be different.\n",
    "\n",
    "The usual way to work with RAMP is to explore solutions, add feature transformations, select models, perhaps do some AutoML/hyperopt, etc., _locally_, and checking them with `ramp_test_submission`. The script prints mean cross-validation scores \n",
    "```\n",
    "----------------------------\n",
    "train acc = 0.55 ± 0.0\n",
    "train nll = 14.53 ± 0.0\n",
    "valid acc = 0.55 ± 0.0\n",
    "valid nll = 14.65 ± 0.0\n",
    "test acc = 0.55 ± 0.0\n",
    "test nll = 14.6 ± 0.0\n",
    "```\n",
    "The official score in this RAMP (the first score column after \"historical contributivity\" on the [leaderboard](http://www.ramp.studio/events/MNIST/leaderboard)) is balanced accuracy aka macro-averaged recall, so the line that is relevant in the output of `ramp_test_submission` is `valid acc = 0.55 ± 0.0`. When the score is good enough, you can submit it at the RAMP."
   ]
  },
  {
   "cell_type": "markdown",
   "metadata": {},
   "source": [
    "## More information\n",
    "\n",
    "You can find more information in the [README](https://github.com/paris-saclay-cds/ramp-workflow/blob/master/README.md) of the [ramp-workflow library](https://github.com/paris-saclay-cds/ramp-workflow)."
   ]
  },
  {
   "cell_type": "markdown",
   "metadata": {},
   "source": [
    "## Contact\n",
    "\n",
    "Don't hesitate to [contact us](mailto:admin@ramp.studio?subject=MNIST notebook)."
   ]
  }
 ],
 "metadata": {
  "anaconda-cloud": {},
  "kernelspec": {
   "display_name": "Python 2",
   "language": "python",
   "name": "python2"
  },
  "language_info": {
   "codemirror_mode": {
    "name": "ipython",
    "version": 2
   },
   "file_extension": ".py",
   "mimetype": "text/x-python",
   "name": "python",
   "nbconvert_exporter": "python",
   "pygments_lexer": "ipython2",
   "version": "2.7.12"
  }
 },
 "nbformat": 4,
 "nbformat_minor": 1
}
